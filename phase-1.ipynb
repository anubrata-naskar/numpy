{
 "cells": [
  {
   "cell_type": "markdown",
   "id": "85b1c301",
   "metadata": {},
   "source": [
    "## NUMPY ARRAY AND BASIC"
   ]
  },
  {
   "cell_type": "code",
   "execution_count": 1,
   "id": "7c73c64b",
   "metadata": {},
   "outputs": [],
   "source": [
    "import numpy as np"
   ]
  },
  {
   "cell_type": "markdown",
   "id": "c753266f",
   "metadata": {},
   "source": [
    "## CREATING ARRAY FROM LIST"
   ]
  },
  {
   "cell_type": "code",
   "execution_count": 2,
   "id": "c885338e",
   "metadata": {},
   "outputs": [
    {
     "name": "stdout",
     "output_type": "stream",
     "text": [
      "1D Array: [1 2 3 4 5]\n",
      "2D Array:\n",
      " [[1 2 3]\n",
      " [4 5 6]]\n"
     ]
    }
   ],
   "source": [
    "arr_1d = np.array([1, 2, 3, 4, 5])\n",
    "print(\"1D Array:\", arr_1d)\n",
    "\n",
    "arr_2d = np.array([[1, 2, 3], [4, 5, 6]])\n",
    "print(\"2D Array:\\n\", arr_2d)"
   ]
  },
  {
   "cell_type": "markdown",
   "id": "0500a094",
   "metadata": {},
   "source": [
    "## Numpy efficiency"
   ]
  },
  {
   "cell_type": "code",
   "execution_count": 3,
   "id": "c49018c3",
   "metadata": {},
   "outputs": [
    {
     "name": "stdout",
     "output_type": "stream",
     "text": [
      "List comprehension time: 0.11505556106567383\n",
      "Numpy array time: 0.008587121963500977\n"
     ]
    }
   ],
   "source": [
    "import time\n",
    "start = time.time()\n",
    "list_comp = [i**2 for i in range(1000000)]\n",
    "end = time.time()\n",
    "print(\"List comprehension time:\", end - start)\n",
    "\n",
    "start = time.time()\n",
    "np_array = np.arange(1000000)**2\n",
    "end = time.time()\n",
    "print(\"Numpy array time:\", end - start)"
   ]
  },
  {
   "cell_type": "markdown",
   "id": "33f97158",
   "metadata": {},
   "source": [
    "## Creating array from scratch"
   ]
  },
  {
   "cell_type": "code",
   "execution_count": 5,
   "id": "27630661",
   "metadata": {},
   "outputs": [
    {
     "name": "stdout",
     "output_type": "stream",
     "text": [
      "[[0. 0. 0. 0. 0.]\n",
      " [0. 0. 0. 0. 0.]\n",
      " [0. 0. 0. 0. 0.]]\n",
      "[[1. 1. 1. 1. 1.]\n",
      " [1. 1. 1. 1. 1.]\n",
      " [1. 1. 1. 1. 1.]]\n",
      "[[5 5 5 5 5]\n",
      " [5 5 5 5 5]\n",
      " [5 5 5 5 5]]\n"
     ]
    }
   ],
   "source": [
    "zeros = np.zeros((3,5))\n",
    "print(zeros)\n",
    "\n",
    "ones = np.ones((3,5))\n",
    "print(ones)\n",
    "\n",
    "full = np.full((3,5),5)\n",
    "print(full)"
   ]
  },
  {
   "cell_type": "code",
   "execution_count": 8,
   "id": "9d48ea86",
   "metadata": {},
   "outputs": [
    {
     "name": "stdout",
     "output_type": "stream",
     "text": [
      "[[0.05602064 0.45906705 0.20246346]\n",
      " [0.9640746  0.54052707 0.77617851]]\n",
      "[0 2 4 6 8]\n"
     ]
    }
   ],
   "source": [
    "random = np.random.random((2,3))\n",
    "print(random)\n",
    "\n",
    "sequence = np.arange(0,10,2)\n",
    "print(sequence)\n"
   ]
  },
  {
   "cell_type": "markdown",
   "id": "2dd8cd7f",
   "metadata": {},
   "source": [
    "## Reshaped array"
   ]
  },
  {
   "cell_type": "code",
   "execution_count": 13,
   "id": "0fa8c2c2",
   "metadata": {},
   "outputs": [
    {
     "name": "stdout",
     "output_type": "stream",
     "text": [
      "[ 0  1  2  3  4  5  6  7  8  9 10 11]\n",
      "[[ 0  1  2  3]\n",
      " [ 4  5  6  7]\n",
      " [ 8  9 10 11]]\n",
      "[ 0  1  2  3  4  5  6  7  8  9 10 11]\n",
      "[ 0  1  2  3  4  5  6  7  8  9 10 11]\n",
      "[[ 0  4  8]\n",
      " [ 1  5  9]\n",
      " [ 2  6 10]\n",
      " [ 3  7 11]]\n"
     ]
    }
   ],
   "source": [
    "arr = np.arange(12)\n",
    "reshaped = arr.reshape((3,4))\n",
    "print(arr)\n",
    "print(reshaped)\n",
    "\n",
    "flattend = reshaped.flatten()\n",
    "print(flattend)\n",
    "\n",
    "# return view\n",
    "reveled = reshaped.ravel()\n",
    "print(reveled)\n",
    "\n",
    "transpose = reshaped.T\n",
    "print(transpose)"
   ]
  },
  {
   "cell_type": "code",
   "execution_count": null,
   "id": "bc258110",
   "metadata": {},
   "outputs": [],
   "source": []
  }
 ],
 "metadata": {
  "kernelspec": {
   "display_name": "myenv",
   "language": "python",
   "name": "python3"
  },
  "language_info": {
   "codemirror_mode": {
    "name": "ipython",
    "version": 3
   },
   "file_extension": ".py",
   "mimetype": "text/x-python",
   "name": "python",
   "nbconvert_exporter": "python",
   "pygments_lexer": "ipython3",
   "version": "3.13.5"
  }
 },
 "nbformat": 4,
 "nbformat_minor": 5
}
