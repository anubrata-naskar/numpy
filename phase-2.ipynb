{
 "cells": [
  {
   "cell_type": "markdown",
   "id": "9ddcfea4",
   "metadata": {},
   "source": [
    "## Numpy Array Operation"
   ]
  },
  {
   "cell_type": "code",
   "execution_count": 2,
   "id": "f16b0446",
   "metadata": {},
   "outputs": [],
   "source": [
    "import numpy as np"
   ]
  },
  {
   "cell_type": "code",
   "execution_count": 6,
   "id": "0283b88d",
   "metadata": {},
   "outputs": [
    {
     "name": "stdout",
     "output_type": "stream",
     "text": [
      "2\n",
      "[ 2 10  9]\n"
     ]
    }
   ],
   "source": [
    "arr_2d = np.array([[1,2,3],\n",
    "                   [4,10,6],\n",
    "                   [8,9,5]])\n",
    "\n",
    "print(arr_2d[0,1])\n",
    "print(arr_2d[:,1]) #column"
   ]
  },
  {
   "cell_type": "markdown",
   "id": "06535896",
   "metadata": {},
   "source": [
    "## Sorting"
   ]
  },
  {
   "cell_type": "code",
   "execution_count": 10,
   "id": "dfae4eca",
   "metadata": {},
   "outputs": [
    {
     "name": "stdout",
     "output_type": "stream",
     "text": [
      "[[ 1  2  3]\n",
      " [ 4 10  6]\n",
      " [ 8  9  5]]\n",
      "[[ 1  2  3]\n",
      " [ 4  9  5]\n",
      " [ 8 10  6]]\n",
      "[[ 1  2  3]\n",
      " [ 4  6 10]\n",
      " [ 5  8  9]]\n"
     ]
    }
   ],
   "source": [
    "print(arr_2d)\n",
    "print(np.sort(arr_2d, axis=0))\n",
    "print(np.sort(arr_2d, axis=1))"
   ]
  },
  {
   "cell_type": "markdown",
   "id": "b3d16d39",
   "metadata": {},
   "source": [
    "## Filter"
   ]
  },
  {
   "cell_type": "code",
   "execution_count": 14,
   "id": "69850049",
   "metadata": {},
   "outputs": [
    {
     "name": "stdout",
     "output_type": "stream",
     "text": [
      "[2 4 6 8]\n",
      "[False False False False False  True  True  True]\n",
      "[6 7 8]\n"
     ]
    }
   ],
   "source": [
    "numbers = np.array([1,2,3,4,5,6,7,8])\n",
    "e_number = numbers[numbers%2 ==0]\n",
    "print(e_number)\n",
    "\n",
    "mask = numbers>5\n",
    "print(mask)\n",
    "print(numbers[mask])"
   ]
  },
  {
   "cell_type": "markdown",
   "id": "f50beeb9",
   "metadata": {},
   "source": [
    "## Indexing "
   ]
  },
  {
   "cell_type": "code",
   "execution_count": 17,
   "id": "73bd3e31",
   "metadata": {},
   "outputs": [
    {
     "name": "stdout",
     "output_type": "stream",
     "text": [
      "[1 5 7]\n",
      "(array([5, 6, 7]),)\n",
      "[6 7 8]\n"
     ]
    }
   ],
   "source": [
    "idx = [0,4,6]\n",
    "print(numbers[idx])\n",
    "\n",
    "np_where = np.where(numbers>5)\n",
    "print(np_where)\n",
    "print(numbers[np_where])"
   ]
  },
  {
   "cell_type": "code",
   "execution_count": 26,
   "id": "2879dae2",
   "metadata": {},
   "outputs": [
    {
     "name": "stdout",
     "output_type": "stream",
     "text": [
      "[ 1  2  3  4  5  6  7  8  9 14 16 37]\n"
     ]
    }
   ],
   "source": [
    "numbers2 = np.array([9,14,16,37])\n",
    "combined = np.concatenate((numbers,numbers2))\n",
    "print(combined)"
   ]
  },
  {
   "cell_type": "markdown",
   "id": "3641ffb5",
   "metadata": {},
   "source": [
    "## Array compatibility"
   ]
  },
  {
   "cell_type": "code",
   "execution_count": 36,
   "id": "ad46069a",
   "metadata": {},
   "outputs": [
    {
     "name": "stdout",
     "output_type": "stream",
     "text": [
      "False\n",
      "[[ 1  2  3]\n",
      " [ 4 10  6]\n",
      " [ 8  9  5]] \n",
      "\n",
      "[[ 1  2  3]\n",
      " [ 4 10  6]\n",
      " [ 8  9  5]\n",
      " [10 11 12]]\n",
      "[[ 1  2  3]\n",
      " [ 4 10  6]\n",
      " [ 8  9  5]] \n",
      "\n",
      "[[ 1  2  3 10]\n",
      " [ 4 10  6 11]\n",
      " [ 8  9  5 12]]\n"
     ]
    }
   ],
   "source": [
    "print(numbers.shape == numbers2.shape)\n",
    "numbers3 = np.array([10,11,12])\n",
    "with_new_row = np.vstack((arr_2d, numbers3))\n",
    "print(arr_2d,'\\n')\n",
    "print(with_new_row)\n",
    "\n",
    "numbers3 = np.array([[10],[11],[12]])\n",
    "with_new_col = np.hstack((arr_2d, numbers3))\n",
    "print(arr_2d,'\\n')\n",
    "print(with_new_col)"
   ]
  },
  {
   "cell_type": "code",
   "execution_count": null,
   "id": "74bfc438",
   "metadata": {},
   "outputs": [],
   "source": []
  }
 ],
 "metadata": {
  "kernelspec": {
   "display_name": "myenv",
   "language": "python",
   "name": "python3"
  },
  "language_info": {
   "codemirror_mode": {
    "name": "ipython",
    "version": 3
   },
   "file_extension": ".py",
   "mimetype": "text/x-python",
   "name": "python",
   "nbconvert_exporter": "python",
   "pygments_lexer": "ipython3",
   "version": "3.13.5"
  }
 },
 "nbformat": 4,
 "nbformat_minor": 5
}
